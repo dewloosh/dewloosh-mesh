{
 "cells": [
  {
   "cell_type": "code",
   "execution_count": 1,
   "metadata": {},
   "outputs": [],
   "source": [
    "import pyvista as pv\n",
    "from pyvista import examples\n",
    "import numpy as np\n",
    "import tetgen"
   ]
  },
  {
   "cell_type": "code",
   "execution_count": 2,
   "metadata": {},
   "outputs": [],
   "source": [
    "bunny = examples.download_bunny_coarse()\n",
    "tet = tetgen.TetGen(bunny)\n",
    "tet.tetrahedralize(order=1, mindihedral=10, minratio=1.1, quality = True)\n",
    "grid = tet.grid\n",
    "coords = np.array(grid.points).astype(float)\n",
    "topo = grid.cells_dict[10].astype(int)"
   ]
  },
  {
   "cell_type": "code",
   "execution_count": 3,
   "metadata": {},
   "outputs": [
    {
     "data": {
      "text/plain": [
       "(9012, 4)"
      ]
     },
     "execution_count": 3,
     "metadata": {},
     "output_type": "execute_result"
    }
   ],
   "source": [
    "topo.shape"
   ]
  },
  {
   "cell_type": "code",
   "execution_count": 4,
   "metadata": {},
   "outputs": [],
   "source": [
    "xmin, xmax = coords[:, 2].min(), coords[:, 2].max()"
   ]
  },
  {
   "cell_type": "code",
   "execution_count": 5,
   "metadata": {},
   "outputs": [],
   "source": [
    "from dewloosh.mesh import PolyData\n",
    "from dewloosh.mesh.cells import TET4, L2\n",
    "from dewloosh.mesh.topo.tr import TET4_to_L2"
   ]
  },
  {
   "cell_type": "code",
   "execution_count": 6,
   "metadata": {},
   "outputs": [
    {
     "ename": "",
     "evalue": "",
     "output_type": "error",
     "traceback": [
      "\u001b[1;31mCanceled future for execute_request message before replies were done"
     ]
    },
    {
     "ename": "",
     "evalue": "",
     "output_type": "error",
     "traceback": [
      "\u001b[1;31mThe Kernel crashed while executing code in the the current cell or a previous cell. Please review the code in the cell(s) to identify a possible cause of the failure. Click <a href='https://aka.ms/vscodeJupyterKernelCrash'>here</a> for more info. View Jupyter <a href='command:jupyter.viewOutput'>log</a> for further details."
     ]
    }
   ],
   "source": [
    "pd = PolyData(coords=coords)\n",
    "pd['bunny'] = PolyData(topo=topo, celltype=TET4)\n",
    "#c = pd['bunny'].centers()"
   ]
  },
  {
   "cell_type": "code",
   "execution_count": null,
   "metadata": {},
   "outputs": [
    {
     "ename": "",
     "evalue": "",
     "output_type": "error",
     "traceback": [
      "\u001b[1;31mCanceled future for execute_request message before replies were done"
     ]
    },
    {
     "ename": "",
     "evalue": "",
     "output_type": "error",
     "traceback": [
      "\u001b[1;31mThe Kernel crashed while executing code in the the current cell or a previous cell. Please review the code in the cell(s) to identify a possible cause of the failure. Click <a href='https://aka.ms/vscodeJupyterKernelCrash'>here</a> for more info. View Jupyter <a href='command:jupyter.viewOutput'>log</a> for further details."
     ]
    }
   ],
   "source": [
    "pd.coords()"
   ]
  },
  {
   "cell_type": "code",
   "execution_count": 7,
   "metadata": {},
   "outputs": [
    {
     "ename": "NameError",
     "evalue": "name 'c' is not defined",
     "output_type": "error",
     "traceback": [
      "\u001b[1;31m---------------------------------------------------------------------------\u001b[0m",
      "\u001b[1;31mNameError\u001b[0m                                 Traceback (most recent call last)",
      "\u001b[1;32mf:\\GitHub\\dewloosh-mesh\\examples\\bunny.ipynb Cell 7'\u001b[0m in \u001b[0;36m<cell line: 1>\u001b[1;34m()\u001b[0m\n\u001b[1;32m----> <a href='vscode-notebook-cell:/f%3A/GitHub/dewloosh-mesh/examples/bunny.ipynb#ch0000006?line=0'>1</a>\u001b[0m left \u001b[39m=\u001b[39m np\u001b[39m.\u001b[39mwhere(c[:, \u001b[39m2\u001b[39m] \u001b[39m<\u001b[39m ((xmin \u001b[39m+\u001b[39m xmax)\u001b[39m/\u001b[39m\u001b[39m2\u001b[39m))[\u001b[39m0\u001b[39m]\n\u001b[0;32m      <a href='vscode-notebook-cell:/f%3A/GitHub/dewloosh-mesh/examples/bunny.ipynb#ch0000006?line=1'>2</a>\u001b[0m right \u001b[39m=\u001b[39m np\u001b[39m.\u001b[39mwhere(c[:, \u001b[39m2\u001b[39m] \u001b[39m>\u001b[39m\u001b[39m=\u001b[39m ((xmin \u001b[39m+\u001b[39m xmax)\u001b[39m/\u001b[39m\u001b[39m2\u001b[39m))[\u001b[39m0\u001b[39m]\n",
      "\u001b[1;31mNameError\u001b[0m: name 'c' is not defined"
     ]
    }
   ],
   "source": [
    "left = np.where(c[:, 2] < ((xmin + xmax)/2))[0]\n",
    "right = np.where(c[:, 2] >= ((xmin + xmax)/2))[0]"
   ]
  },
  {
   "cell_type": "code",
   "execution_count": null,
   "metadata": {},
   "outputs": [],
   "source": [
    "_, topo_L = TET4_to_L2(coords, topo[left])\n",
    "topo_R = topo[right]\n",
    "\n",
    "pd = PolyData(coords=coords)\n",
    "pd['L2'] = PolyData(topo=topo_L, celltype=L2)\n",
    "pd['TET4'] = PolyData(topo=topo_R, celltype=TET4)"
   ]
  },
  {
   "cell_type": "code",
   "execution_count": null,
   "metadata": {},
   "outputs": [],
   "source": [
    "pd.plot()"
   ]
  },
  {
   "cell_type": "code",
   "execution_count": null,
   "metadata": {},
   "outputs": [
    {
     "data": {
      "text/plain": [
       "[1, 2]"
      ]
     },
     "execution_count": 20,
     "metadata": {},
     "output_type": "execute_result"
    }
   ],
   "source": [
    "a = {1 : '1', 2 : '2'}\n",
    "[i for i in a]"
   ]
  }
 ],
 "metadata": {
  "kernelspec": {
   "display_name": "Python 3.8.10 ('.venv': venv)",
   "language": "python",
   "name": "python3"
  },
  "language_info": {
   "codemirror_mode": {
    "name": "ipython",
    "version": 3
   },
   "file_extension": ".py",
   "mimetype": "text/x-python",
   "name": "python",
   "nbconvert_exporter": "python",
   "pygments_lexer": "ipython3",
   "version": "3.8.10"
  },
  "orig_nbformat": 4,
  "vscode": {
   "interpreter": {
    "hash": "4666b22a2e040b492cbeb33276dbb47aa3c858ad39c1fe5e5ed96671ec801ad4"
   }
  }
 },
 "nbformat": 4,
 "nbformat_minor": 2
}
